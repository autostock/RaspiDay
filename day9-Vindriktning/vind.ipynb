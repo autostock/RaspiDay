{
 "cells": [
  {
   "cell_type": "code",
   "execution_count": null,
   "id": "cc848ea0",
   "metadata": {},
   "outputs": [],
   "source": [
    "import paho.mqtt.client as mqtt"
   ]
  },
  {
   "cell_type": "code",
   "execution_count": null,
   "id": "91474dc7",
   "metadata": {
    "scrolled": true
   },
   "outputs": [],
   "source": [
    "import numpy as np\n",
    "# %matplotlib inline\n",
    "import matplotlib.pyplot as plt"
   ]
  },
  {
   "cell_type": "code",
   "execution_count": null,
   "id": "d8dbacf8",
   "metadata": {},
   "outputs": [],
   "source": [
    "# The callback for when the client receives a CONNACK response from the server.\n",
    "def on_connect(client, userdata, flags, rc):\n",
    "    print(\"MQTT: connected with result code \"+str(rc))\n",
    "    # Subscribing in on_connect() means that if we lose the connection and\n",
    "    # reconnect then subscriptions will be renewed.\n",
    "    client.subscribe(\"tele/tasmota_B5F9F3/SENSOR\")\n",
    "    client.subscribe(\"tele/tasmota_0D6E87/SENSOR\")\n"
   ]
  },
  {
   "cell_type": "code",
   "execution_count": null,
   "id": "588992ec",
   "metadata": {},
   "outputs": [],
   "source": [
    "# The callback for when a PUBLISH message is received from the server.\n",
    "def on_message(client, userdata, msg):\n",
    "#    global counter, fig, x ,y, ax\n",
    "    topicTree = msg.topic.split('/')\n",
    "    print(\"on_message: MQTT: %s [%d] payload: %s\" % (msg.topic , len(topicTree),  msg.payload.decode()) )\n",
    "#    counter+=1\n",
    "#    print(\"counter %d \" % counter)\n",
    "#    x = np.linspace(0, 2*np.pi, 300)\n",
    "#    y = np.abs(2*x)\n",
    "    y1 = np.random.random([10,1])\n",
    "    plt.plot(y1)\n",
    "#    plt.title(\"A little chirp\")\n",
    "#    fig.canvas.draw()\n",
    "#    fig.canvas.flush_events()\n",
    "#    ax.clear()\n",
    "#    ax.plot(x, y)\n"
   ]
  },
  {
   "cell_type": "code",
   "execution_count": null,
   "id": "ed2faed9",
   "metadata": {},
   "outputs": [],
   "source": [
    "#setup mqtt\n",
    "client = mqtt.Client()\n",
    "client.on_connect = on_connect\n",
    "client.on_message = on_message\n",
    "\n",
    "client.connect(\"192.168.179.2\", 1883, 60)"
   ]
  },
  {
   "cell_type": "code",
   "execution_count": null,
   "id": "e9a56a35",
   "metadata": {},
   "outputs": [],
   "source": [
    "counter=0\n",
    "x = np.linspace(0, 2*np.pi, 300)\n",
    "y = np.sin(x**2)\n",
    "#plt.plot(x, y)\n",
    "#plt.title(\"A main chirp\")\n",
    "#plt.show()\n",
    "#fig = plt.gcf()  # let's keep the figure object around for later...\n",
    "#fig=plt.figure()\n",
    "#ax = fig.add_subplot(1,1,1)\n"
   ]
  },
  {
   "cell_type": "code",
   "execution_count": null,
   "id": "3e725bf7",
   "metadata": {},
   "outputs": [],
   "source": [
    "client.loop_forever()"
   ]
  },
  {
   "cell_type": "code",
   "execution_count": null,
   "id": "a228bf43",
   "metadata": {},
   "outputs": [],
   "source": []
  }
 ],
 "metadata": {
  "kernelspec": {
   "display_name": "Python 3 (ipykernel)",
   "language": "python",
   "name": "python3"
  },
  "language_info": {
   "codemirror_mode": {
    "name": "ipython",
    "version": 3
   },
   "file_extension": ".py",
   "mimetype": "text/x-python",
   "name": "python",
   "nbconvert_exporter": "python",
   "pygments_lexer": "ipython3",
   "version": "3.7.3"
  }
 },
 "nbformat": 4,
 "nbformat_minor": 5
}
